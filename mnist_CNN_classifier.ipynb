{
 "cells": [
  {
   "cell_type": "code",
   "execution_count": 1,
   "id": "8b642b11",
   "metadata": {},
   "outputs": [
    {
     "name": "stdout",
     "output_type": "stream",
     "text": [
      "현재 가상환경 GPU 사용 가능상태\n"
     ]
    }
   ],
   "source": [
    "import torch\n",
    "if torch.cuda.is_available() == True:\n",
    "    device = 'cuda:0'\n",
    "    print('현재 가상환경 GPU 사용 가능상태')\n",
    "else:\n",
    "    device = 'cpu'\n",
    "    print('GPU 사용 불가능 상태')"
   ]
  },
  {
   "cell_type": "markdown",
   "id": "0ef43ccd",
   "metadata": {},
   "source": [
    "## MNIST 데이터 다운로드 & 전처리"
   ]
  },
  {
   "cell_type": "code",
   "execution_count": 2,
   "id": "2111504a",
   "metadata": {},
   "outputs": [
    {
     "name": "stdout",
     "output_type": "stream",
     "text": [
      "Downloading http://yann.lecun.com/exdb/mnist/train-images-idx3-ubyte.gz\n",
      "Downloading http://yann.lecun.com/exdb/mnist/train-images-idx3-ubyte.gz to ./MNIST/raw/train-images-idx3-ubyte.gz\n"
     ]
    },
    {
     "data": {
      "application/vnd.jupyter.widget-view+json": {
       "model_id": "f981d1b4f9004ec6a4c3a98a62e1ec64",
       "version_major": 2,
       "version_minor": 0
      },
      "text/plain": [
       "  0%|          | 0/9912422 [00:00<?, ?it/s]"
      ]
     },
     "metadata": {},
     "output_type": "display_data"
    },
    {
     "name": "stdout",
     "output_type": "stream",
     "text": [
      "Extracting ./MNIST/raw/train-images-idx3-ubyte.gz to ./MNIST/raw\n",
      "\n",
      "Downloading http://yann.lecun.com/exdb/mnist/train-labels-idx1-ubyte.gz\n",
      "Downloading http://yann.lecun.com/exdb/mnist/train-labels-idx1-ubyte.gz to ./MNIST/raw/train-labels-idx1-ubyte.gz\n"
     ]
    },
    {
     "data": {
      "application/vnd.jupyter.widget-view+json": {
       "model_id": "8abbd7cd295047578750d3e2d2bdc543",
       "version_major": 2,
       "version_minor": 0
      },
      "text/plain": [
       "  0%|          | 0/28881 [00:00<?, ?it/s]"
      ]
     },
     "metadata": {},
     "output_type": "display_data"
    },
    {
     "name": "stdout",
     "output_type": "stream",
     "text": [
      "Extracting ./MNIST/raw/train-labels-idx1-ubyte.gz to ./MNIST/raw\n",
      "\n",
      "Downloading http://yann.lecun.com/exdb/mnist/t10k-images-idx3-ubyte.gz\n",
      "Downloading http://yann.lecun.com/exdb/mnist/t10k-images-idx3-ubyte.gz to ./MNIST/raw/t10k-images-idx3-ubyte.gz\n"
     ]
    },
    {
     "data": {
      "application/vnd.jupyter.widget-view+json": {
       "model_id": "8fdd556f09a94523bc0d6e87ac87e7b7",
       "version_major": 2,
       "version_minor": 0
      },
      "text/plain": [
       "  0%|          | 0/1648877 [00:00<?, ?it/s]"
      ]
     },
     "metadata": {},
     "output_type": "display_data"
    },
    {
     "name": "stdout",
     "output_type": "stream",
     "text": [
      "Extracting ./MNIST/raw/t10k-images-idx3-ubyte.gz to ./MNIST/raw\n",
      "\n",
      "Downloading http://yann.lecun.com/exdb/mnist/t10k-labels-idx1-ubyte.gz\n",
      "Downloading http://yann.lecun.com/exdb/mnist/t10k-labels-idx1-ubyte.gz to ./MNIST/raw/t10k-labels-idx1-ubyte.gz\n"
     ]
    },
    {
     "data": {
      "application/vnd.jupyter.widget-view+json": {
       "model_id": "2497be39071d4088a8eb6fc4437b0314",
       "version_major": 2,
       "version_minor": 0
      },
      "text/plain": [
       "  0%|          | 0/4542 [00:00<?, ?it/s]"
      ]
     },
     "metadata": {},
     "output_type": "display_data"
    },
    {
     "name": "stdout",
     "output_type": "stream",
     "text": [
      "Extracting ./MNIST/raw/t10k-labels-idx1-ubyte.gz to ./MNIST/raw\n",
      "\n"
     ]
    }
   ],
   "source": [
    "maximum_epoch = 50\n",
    "learning_rate = 0.001\n",
    "\n",
    "import torchvision.transforms as transforms\n",
    "from torchvision.transforms import ToTensor, Normalize\n",
    "\n",
    "mnist_transform = transforms.Compose([transforms.RandomRotation(10),\n",
    "                                transforms.RandomCrop(28, padding=2),\n",
    "                                transforms.ToTensor(),\n",
    "                                transforms.Normalize((0.1307,), (0.3081,))])\n",
    "\n",
    "from torchvision import datasets\n",
    "train_data = datasets.MNIST(root = './', train = True, download = True, transform = mnist_transform)\n",
    "\n",
    "from torch.utils.data import random_split\n",
    "train_data, valid_data = random_split(train_data, [54000,6000])\n",
    "test_data = datasets.MNIST(root = './', train = False, download = True, transform = mnist_transform)\n",
    "\n",
    "from torch.utils.data import DataLoader\n",
    "train_loader = DataLoader(train_data, batch_size=128, shuffle=True)\n",
    "valid_loader = DataLoader(valid_data, batch_size=128, shuffle=True)\n",
    "test_loader = DataLoader(test_data, batch_size=128, shuffle=True)"
   ]
  },
  {
   "cell_type": "code",
   "execution_count": 3,
   "id": "e501bc29",
   "metadata": {},
   "outputs": [],
   "source": [
    "def seed(seed = 1234):\n",
    "    torch.manual_seed(seed)\n",
    "    torch.cuda.manual_seed(seed)\n",
    "    torch.backends.cudnn.deterministic = True\n",
    "    torch.backends.cudnn.benchmark = True\n",
    "\n",
    "seed() # 시드 고정"
   ]
  },
  {
   "cell_type": "markdown",
   "id": "d2ace62d",
   "metadata": {},
   "source": [
    "## 모델 선언"
   ]
  },
  {
   "cell_type": "code",
   "execution_count": 4,
   "id": "90bc5a0d",
   "metadata": {},
   "outputs": [],
   "source": [
    "# 필요한 import 구문\n",
    "import torch.nn as nn\n",
    "from torch.optim import Adam\n",
    "from torchsummary import summary as Summary\n",
    "import matplotlib.pyplot as plt\n",
    "from torch.optim import Adam\n",
    "import gc\n",
    "from torch.cuda import memory_allocated, empty_cache\n",
    "import numpy as np\n",
    "from IPython.display import clear_output\n",
    "import time\n",
    "import seaborn as sns # 시각화 라이브러리\n",
    "from sklearn.metrics import confusion_matrix\n",
    "from torch.optim import Adam\n",
    "from torch.optim.lr_scheduler import StepLR\n",
    "from torch.optim.lr_scheduler import ReduceLROnPlateau\n",
    "from torch.optim.lr_scheduler import CosineAnnealingLR\n",
    "from torch.optim.lr_scheduler import OneCycleLR"
   ]
  },
  {
   "cell_type": "code",
   "execution_count": 5,
   "id": "801bbbe5",
   "metadata": {},
   "outputs": [
    {
     "name": "stdout",
     "output_type": "stream",
     "text": [
      "----------------------------------------------------------------\n",
      "        Layer (type)               Output Shape         Param #\n",
      "================================================================\n",
      "            Conv2d-1           [-1, 32, 28, 28]             320\n",
      "              ReLU-2           [-1, 32, 28, 28]               0\n",
      "       BatchNorm2d-3           [-1, 32, 28, 28]              64\n",
      "         MaxPool2d-4           [-1, 32, 14, 14]               0\n",
      "            Conv2d-5           [-1, 64, 14, 14]          18,496\n",
      "              ReLU-6           [-1, 64, 14, 14]               0\n",
      "       BatchNorm2d-7           [-1, 64, 14, 14]             128\n",
      "         MaxPool2d-8             [-1, 64, 7, 7]               0\n",
      "            Conv2d-9            [-1, 128, 7, 7]          73,856\n",
      "             ReLU-10            [-1, 128, 7, 7]               0\n",
      "      BatchNorm2d-11            [-1, 128, 7, 7]             256\n",
      "        MaxPool2d-12            [-1, 128, 3, 3]               0\n",
      "        Dropout2d-13            [-1, 128, 3, 3]               0\n",
      "           Linear-14                  [-1, 512]         590,336\n",
      "             ReLU-15                  [-1, 512]               0\n",
      "      BatchNorm1d-16                  [-1, 512]           1,024\n",
      "        Dropout2d-17                  [-1, 512]               0\n",
      "           Linear-18                   [-1, 10]           5,130\n",
      "          Softmax-19                   [-1, 10]               0\n",
      "================================================================\n",
      "Total params: 689,610\n",
      "Trainable params: 689,610\n",
      "Non-trainable params: 0\n",
      "----------------------------------------------------------------\n",
      "Input size (MB): 0.00\n",
      "Forward/backward pass size (MB): 1.11\n",
      "Params size (MB): 2.63\n",
      "Estimated Total Size (MB): 3.74\n",
      "----------------------------------------------------------------\n"
     ]
    }
   ],
   "source": [
    "maximum_epoch = 30\n",
    "learning_rate = 0.001\n",
    "\n",
    "def init_model():\n",
    "    global net, loss_fn, optim, scheduler\n",
    "    net = My_model().to(device)\n",
    "    loss_fn = nn.CrossEntropyLoss()\n",
    "    optim = Adam(net.parameters(), lr=learning_rate, weight_decay=1e-5)\n",
    "    scheduler = ReduceLROnPlateau(optim, mode='max', factor=0.5, patience=2, verbose=True, threshold=0.001, cooldown=1, min_lr=1e-6)\n",
    "\n",
    "class My_model(nn.Module):\n",
    "    def __init__(self):\n",
    "        super(My_model, self).__init__()\n",
    "        self.conv1 = nn.Conv2d(1, 32, kernel_size=3, stride=1, padding=1)\n",
    "        self.conv2 = nn.Conv2d(32, 64, kernel_size=3, stride=1, padding=1)\n",
    "        self.conv3 = nn.Conv2d(64, 128, kernel_size=3, stride=1, padding=1)\n",
    "        self.fc1 = nn.Linear(3*3*128, 512)\n",
    "        self.fc2 = nn.Linear(512, 10)\n",
    "        self.dropout1 = nn.Dropout2d(0.2)\n",
    "        self.dropout2 = nn.Dropout2d(0.5)\n",
    "        self.pool = nn.MaxPool2d(kernel_size=2, stride=2)\n",
    "        self.relu = nn.ReLU()\n",
    "        self.softmax = nn.Softmax(dim=1)\n",
    "        self.BatchNorm2d = nn.BatchNorm2d(32)\n",
    "        self.BatchNorm2d2 = nn.BatchNorm2d(64)\n",
    "        self.BatchNorm2d3 = nn.BatchNorm2d(128) \n",
    "        self.BatchNorm1d = nn.BatchNorm1d(512)\n",
    "        self.BatchNorm1d2 = nn.BatchNorm1d(10)\n",
    "\n",
    "        # 가중치 초기화\n",
    "        nn.init.xavier_uniform_(self.conv1.weight)\n",
    "        nn.init.xavier_uniform_(self.conv2.weight)\n",
    "        nn.init.xavier_uniform_(self.conv3.weight)\n",
    "        nn.init.xavier_uniform_(self.fc1.weight)\n",
    "        nn.init.xavier_uniform_(self.fc2.weight)\n",
    "\n",
    "    def forward(self, x):\n",
    "        x = self.relu(self.conv1(x))\n",
    "        x = self.BatchNorm2d(x)\n",
    "        x = self.pool(x)\n",
    "        x = self.relu(self.conv2(x))\n",
    "        x = self.BatchNorm2d2(x)\n",
    "        x = self.pool(x)\n",
    "        x = self.relu(self.conv3(x))\n",
    "        x = self.BatchNorm2d3(x)\n",
    "        conv_out = self.pool(x)\n",
    "        x = self.dropout1(conv_out)\n",
    "        x = x.view(-1, 3*3*128)\n",
    "        x = self.relu(self.fc1(x))\n",
    "        x = self.BatchNorm1d(x)\n",
    "        x = self.dropout2(x)\n",
    "        x = self.fc2(x)\n",
    "        x = self.softmax(x)\n",
    "        return x, conv_out\n",
    "\n",
    "# Model structure check\n",
    "Summary(My_model().to(device),(1, 28, 28))"
   ]
  },
  {
   "cell_type": "markdown",
   "id": "4b92839c",
   "metadata": {},
   "source": [
    "## 학습에 사용되는 함수\n",
    " - 초기화\n",
    " - 모델 구동\n",
    " - 학습 추이"
   ]
  },
  {
   "cell_type": "markdown",
   "id": "18e96680",
   "metadata": {},
   "source": [
    "#### 초기화"
   ]
  },
  {
   "cell_type": "code",
   "execution_count": 6,
   "id": "3531c4fd",
   "metadata": {},
   "outputs": [],
   "source": [
    "# epoch 카운터 초기화\n",
    "def init_epoch():\n",
    "    global epoch_cnt\n",
    "    epoch_cnt = 0\n",
    "    \n",
    "def init_log():\n",
    "    plt.rc('font', size = 10)\n",
    "    # 모든 Log를 초기화\n",
    "    global log_stack, iter_log, tloss_log, tacc_log, vloss_log, vacc_log, time_log\n",
    "    iter_log, tloss_log, tacc_log, vloss_log, vacc_log = [], [], [], [], []\n",
    "    time_log, log_stack = [], []"
   ]
  },
  {
   "cell_type": "markdown",
   "id": "201836fc",
   "metadata": {},
   "source": [
    "#### 모델 구동"
   ]
  },
  {
   "cell_type": "code",
   "execution_count": 7,
   "id": "e8b7950a",
   "metadata": {},
   "outputs": [],
   "source": [
    "import gc\n",
    "from torch.cuda import memory_allocated, empty_cache\n",
    "def clear_memory():\n",
    "    if device != 'cpu':\n",
    "        empty_cache()\n",
    "    gc.collect()\n",
    "    \n",
    "# 학습 알고리즘\n",
    "import numpy as np\n",
    "def epoch(data_loader, mode = 'train'):\n",
    "    global epoch_cnt\n",
    "    \n",
    "    # 사용되는 변수 초기화\n",
    "    iter_loss, iter_acc, last_grad_performed, last_out, last_label = [], [], False, None, None\n",
    "    \n",
    "    # 1 iteration 학습 알고리즘(for문을 나오면 1 epoch 완료)\n",
    "    for _data, _label in data_loader:\n",
    "        data, label = _data.to(device), _label.to(device)\n",
    "        \n",
    "        \n",
    "        # 코딩타임 - 1분\n",
    "        \n",
    "        # 1. Feed-forward\n",
    "        if mode == 'train':\n",
    "            net.train()\n",
    "        else:\n",
    "            net.eval() # Dropout, BatchNorm 수행하지 않음\n",
    "            \n",
    "        ##########\n",
    "\n",
    "        result, _ = net(data) # 1 Batch에 대한 결과가 모든 Class에 대한 확률값으로\n",
    "        _, out = torch.max(result, 1) # result에서 최대 확률값을 기준으로 예측 class 도출\n",
    "        \n",
    "        # 2. Loss 계산\n",
    "        loss = loss_fn(result, label) # GT 와 Label 비교하여 Loss 산정\n",
    "        iter_loss.append(loss.item()) # 학습 추이를 위하여 Loss를 기록\n",
    "        \n",
    "        # 3. 역전파 학습 후 Gradient Descent\n",
    "        if mode == 'train':\n",
    "            optim.zero_grad() # 미분을 통해 얻은 기울기르 초기화 for 다음 epoch\n",
    "            loss.backward() # 역전파 학습\n",
    "            optim.step() # Gradient Descent 수행\n",
    "            last_grad_performed = True # for문 나가면 epoch 카운터 += 1\n",
    "            \n",
    "        # 4. 정확도 계산\n",
    "        acc_partial = (out == label).float().sum() # GT == Label 인 개수\n",
    "        acc_partial = acc_partial / len(label) # ( TP / (TP + TN)) 해서 정확도 산출\n",
    "        iter_acc.append(acc_partial.item()) # 학습 추이를 위하여 Acc. 기록\n",
    "            \n",
    "        # 5. 컨퓨전 매트릭스 출력을 위해 기록\n",
    "        last_out = out.cpu().detach() # 모든 Predict 기록\n",
    "        last_label = _label # 모든 GT 기록\n",
    "        \n",
    "    # 역전파 학습 후 Epoch 카운터 += 1\n",
    "    if last_grad_performed:\n",
    "        epoch_cnt += 1\n",
    "    \n",
    "    clear_memory()\n",
    "    \n",
    "    # loss와 acc의 평균값 for 학습추이 그래프, 모든 GT와 Label값 for 컨퓨전 매트릭스\n",
    "    return np.average(iter_loss), np.average(iter_acc), last_out, last_label\n",
    "\n",
    "def epoch_not_finished():\n",
    "    # 에폭이 끝남을 알림\n",
    "    return epoch_cnt < maximum_epoch"
   ]
  },
  {
   "cell_type": "markdown",
   "id": "e59f3891",
   "metadata": {},
   "source": [
    "#### 학습 추이"
   ]
  },
  {
   "cell_type": "code",
   "execution_count": 8,
   "id": "cb21e1be",
   "metadata": {},
   "outputs": [],
   "source": [
    "def record_train_log(_tloss, _tacc, _time):\n",
    "    # Train Log 기록용\n",
    "    time_log.append(_time)\n",
    "    tloss_log.append(_tloss)\n",
    "    tacc_log.append(_tacc)\n",
    "    iter_log.append(epoch_cnt)\n",
    "    \n",
    "def record_valid_log(_vloss, _vacc):\n",
    "    # Validation Log 기록용\n",
    "    vloss_log.append(_vloss)\n",
    "    vacc_log.append(_vacc)\n",
    "\n",
    "def last(log_list):\n",
    "    # 리스트 안의 마지막 숫자를 반환(print_log 함수에서 사용)\n",
    "    if len(log_list) > 0:\n",
    "        return log_list[len(log_list) - 1]\n",
    "    else:\n",
    "        return -1\n",
    "\n",
    "from IPython.display import clear_output\n",
    "def print_log():\n",
    "    # 학습 추이 출력\n",
    "    \n",
    "    # 소숫점 3자리 수까지 조절\n",
    "    train_loss = round(float(last(tloss_log)), 3)\n",
    "    train_acc = round(float(last(tacc_log)), 3)\n",
    "    val_loss = round(float(last(vloss_log)), 3)\n",
    "    val_acc = round(float(last(vacc_log)), 3)\n",
    "    time_spent = round(float(last(time_log)), 3)\n",
    "    \n",
    "    log_str = 'Epoch: {:3} | T_Loss {:5} | T_acc {:5} | V_Loss {:5} | V_acc. {:5} | \\\n",
    "🕒 {:5}'.format(last(iter_log), train_loss, train_acc, val_loss, val_acc, time_spent)\n",
    "    \n",
    "    log_stack.append(log_str) # 프린트 준비\n",
    "    \n",
    "    # 학습 추이 그래프 출력\n",
    "    hist_fig, loss_axis = plt.subplots(figsize=(10, 3), dpi=99) # 그래프 사이즈 설정\n",
    "    hist_fig.patch.set_facecolor('white') # 그래프 배경색 설정\n",
    "    \n",
    "    # Loss Line 구성\n",
    "    loss_t_line = plt.plot(iter_log, tloss_log, label='Train Loss', color='red', marker='o')\n",
    "    loss_v_line = plt.plot(iter_log, vloss_log, label='Valid Loss', color='blue', marker='s')\n",
    "    loss_axis.set_xlabel('epoch')\n",
    "    loss_axis.set_ylabel('loss')\n",
    "    \n",
    "    # Acc. Line 구성\n",
    "    acc_axis = loss_axis.twinx()\n",
    "    acc_t_line = acc_axis.plot(iter_log, tacc_log, label='Train Acc.', color='red', marker='+')\n",
    "    acc_v_line = acc_axis.plot(iter_log, vacc_log, label='Valid Acc.', color='blue', marker='x')\n",
    "    acc_axis.set_ylabel('accuracy')\n",
    "    \n",
    "    # 그래프 출력\n",
    "    hist_lines = loss_t_line + loss_v_line + acc_t_line + acc_v_line # 위에서 선언한 plt정보들 통합\n",
    "    loss_axis.legend(hist_lines, [l.get_label() for l in hist_lines]) # 순서대로 그려주기\n",
    "    loss_axis.grid() # 격자 설정\n",
    "    plt.title('Learning history until epoch {}'.format(last(iter_log)))\n",
    "    plt.draw()\n",
    "    \n",
    "    # 텍스트 로그 출력\n",
    "    clear_output(wait=True)\n",
    "    plt.show()\n",
    "    for idx in reversed(range(len(log_stack))): # 반대로 sort 시켜서 출력\n",
    "        print(log_stack[idx])"
   ]
  },
  {
   "attachments": {},
   "cell_type": "markdown",
   "id": "1a27977d",
   "metadata": {},
   "source": [
    "### Early Stoppoing"
   ]
  },
  {
   "cell_type": "code",
   "execution_count": 9,
   "id": "284e70e3",
   "metadata": {},
   "outputs": [],
   "source": [
    "class EarlyStopping:\n",
    "    \"\"\"주어진 patience 이후로 validation loss가 개선되지 않으면 학습을 조기 중지\"\"\"\n",
    "    def __init__(self, patience = 10, verbose = False, delta = 0, path = 'checkpoint.pth', save = False):\n",
    "#         patience (int): validation loss가 개선된 후 기다리는 기간\n",
    "#         verbose (bool): True일 경우 각 validation loss의 개선 사항 메세지 출력\n",
    "#         delta (float): 개선되었다고 인정되는 monitered quantity의 최소 변화\n",
    "#         path (str): checkpoint저장 경로\n",
    "\n",
    "        self.patience = patience\n",
    "        self.verbose = verbose\n",
    "        self.counter = 0\n",
    "        self.best_score = None\n",
    "        self.early_stop = False\n",
    "        self.val_loss_min = np.Inf\n",
    "        self.delta = delta\n",
    "        self.path = path\n",
    "        self.save = save\n",
    "\n",
    "    def __call__(self, val_loss, model):\n",
    "\n",
    "        score = -val_loss\n",
    "\n",
    "        if self.best_score is None:\n",
    "            self.best_score = score\n",
    "            self.save_checkpoint(val_loss, model)\n",
    "        elif score < self.best_score + self.delta:\n",
    "            self.counter += 1\n",
    "            print('EarlyStopping counter: {} out of {}'.format(self.counter, self.patience))\n",
    "            if self.counter >= self.patience:\n",
    "                self.early_stop = True\n",
    "        else:\n",
    "            self.best_score = score\n",
    "            self.save_checkpoint(val_loss, model)\n",
    "            self.counter = 0\n",
    "\n",
    "    def save_checkpoint(self, val_loss, model):\n",
    "        # validation loss가 감소하면 모델을 저장한다.\n",
    "        if self.verbose:\n",
    "            print('Validation loss decresed ({:5} --> {:5}). Saving Model...'.format(self.val_loss_min, val_loss))\n",
    "        if self.save == True:\n",
    "            torch.save(model.state_dict(), self.path)\n",
    "        self.val_loss_min = val_loss"
   ]
  },
  {
   "cell_type": "code",
   "execution_count": 10,
   "id": "219972db",
   "metadata": {},
   "outputs": [],
   "source": [
    "def calculate_norm(dataset):\n",
    "    # dataset의 axis=1, 2에 대한 평균 산출\n",
    "    mean_ = np.array([np.mean(x.numpy(), axis=(1, 2)) for x, _ in dataset])\n",
    "    # r, g, b 채널에 대한 각각의 평균 산출\n",
    "    mean_r = mean_[:, 0].mean()\n",
    "    mean_g = mean_[:, 1].mean()\n",
    "    mean_b = mean_[:, 2].mean()\n",
    "\n",
    "    # dataset의 axis=1, 2에 대한 표준편차 산출\n",
    "    std_ = np.array([np.std(x.numpy(), axis=(1, 2)) for x, _ in dataset])\n",
    "    # r, g, b 채널에 대한 각각의 표준편차 산출\n",
    "    std_r = std_[:, 0].mean()\n",
    "    std_g = std_[:, 1].mean()\n",
    "    std_b = std_[:, 2].mean()\n",
    "    \n",
    "    return (mean_r, mean_g, mean_b), (std_r, std_g, std_b)"
   ]
  },
  {
   "cell_type": "markdown",
   "id": "fd41e618",
   "metadata": {},
   "source": [
    "## 모델 학습"
   ]
  },
  {
   "cell_type": "code",
   "execution_count": 11,
   "id": "36ea95f9",
   "metadata": {},
   "outputs": [
    {
     "data": {
      "image/png": "[encoded data removed]",
      "text/plain": [
       "<Figure size 990x297 with 2 Axes>"
      ]
     },
     "metadata": {},
     "output_type": "display_data"
    },
    {
     "name": "stdout",
     "output_type": "stream",
     "text": [
      "Epoch:  30 | T_Loss 1.468 | T_acc 0.994 | V_Loss 1.468 | V_acc. 0.993 | 🕒 17.59\n",
      "Epoch:  29 | T_Loss 1.468 | T_acc 0.994 | V_Loss 1.469 | V_acc. 0.993 | 🕒 17.612\n",
      "Epoch:  28 | T_Loss 1.468 | T_acc 0.993 | V_Loss 1.469 | V_acc. 0.992 | 🕒 18.048\n",
      "Epoch:  27 | T_Loss 1.468 | T_acc 0.993 | V_Loss 1.468 | V_acc. 0.994 | 🕒 17.452\n",
      "Epoch:  26 | T_Loss 1.469 | T_acc 0.993 | V_Loss 1.469 | V_acc. 0.993 | 🕒 18.513\n",
      "Epoch:  25 | T_Loss 1.468 | T_acc 0.993 | V_Loss 1.469 | V_acc. 0.993 | 🕒 17.849\n",
      "Epoch:  24 | T_Loss 1.469 | T_acc 0.993 | V_Loss 1.469 | V_acc. 0.992 | 🕒 18.333\n",
      "Epoch:  23 | T_Loss 1.469 | T_acc 0.993 | V_Loss 1.469 | V_acc. 0.993 | 🕒 18.123\n",
      "Epoch:  22 | T_Loss 1.469 | T_acc 0.992 | V_Loss 1.468 | V_acc. 0.993 | 🕒 18.103\n",
      "Epoch:  21 | T_Loss 1.469 | T_acc 0.993 | V_Loss 1.468 | V_acc. 0.993 | 🕒 18.159\n",
      "Epoch:  20 | T_Loss 1.469 | T_acc 0.992 | V_Loss 1.468 | V_acc. 0.994 | 🕒 17.974\n",
      "Epoch:  19 | T_Loss  1.47 | T_acc 0.992 | V_Loss 1.469 | V_acc. 0.992 | 🕒 18.372\n",
      "Epoch:  18 | T_Loss  1.47 | T_acc 0.991 | V_Loss 1.469 | V_acc. 0.993 | 🕒 17.881\n",
      "Epoch:  17 | T_Loss 1.471 | T_acc 0.991 | V_Loss 1.469 | V_acc. 0.993 | 🕒 17.587\n",
      "Epoch:  16 | T_Loss 1.471 | T_acc 0.991 | V_Loss  1.47 | V_acc. 0.991 | 🕒 17.949\n",
      "Epoch:  15 | T_Loss 1.471 | T_acc 0.991 | V_Loss 1.471 | V_acc. 0.991 | 🕒 17.562\n",
      "Epoch:  14 | T_Loss 1.473 | T_acc 0.989 | V_Loss 1.472 | V_acc.  0.99 | 🕒 17.415\n",
      "Epoch:  13 | T_Loss 1.473 | T_acc 0.989 | V_Loss 1.472 | V_acc. 0.989 | 🕒 18.042\n",
      "Epoch:  12 | T_Loss 1.474 | T_acc 0.988 | V_Loss 1.472 | V_acc.  0.99 | 🕒 17.464\n",
      "Epoch:  11 | T_Loss 1.474 | T_acc 0.987 | V_Loss 1.472 | V_acc.  0.99 | 🕒 18.605\n",
      "Epoch:  10 | T_Loss 1.474 | T_acc 0.988 | V_Loss 1.472 | V_acc.  0.99 | 🕒 17.512\n",
      "Epoch:   9 | T_Loss 1.474 | T_acc 0.987 | V_Loss 1.472 | V_acc.  0.99 | 🕒 17.676\n",
      "Epoch:   8 | T_Loss 1.476 | T_acc 0.986 | V_Loss 1.472 | V_acc.  0.99 | 🕒 17.474\n",
      "Epoch:   7 | T_Loss 1.481 | T_acc 0.981 | V_Loss 1.476 | V_acc. 0.986 | 🕒 17.468\n",
      "Epoch:   6 | T_Loss  1.48 | T_acc 0.982 | V_Loss 1.477 | V_acc. 0.986 | 🕒 18.216\n",
      "Epoch:   5 | T_Loss 1.481 | T_acc 0.981 | V_Loss 1.477 | V_acc. 0.986 | 🕒  17.8\n",
      "Epoch:   4 | T_Loss 1.486 | T_acc 0.977 | V_Loss 1.476 | V_acc. 0.987 | 🕒 18.421\n",
      "Epoch:   3 | T_Loss 1.488 | T_acc 0.975 | V_Loss 1.485 | V_acc. 0.979 | 🕒 18.252\n",
      "Epoch:   2 | T_Loss 1.494 | T_acc  0.97 | V_Loss 1.482 | V_acc.  0.98 | 🕒 18.182\n",
      "Epoch:   1 | T_Loss 1.551 | T_acc 0.918 | V_Loss 1.489 | V_acc. 0.973 | 🕒 18.068\n",
      "EarlyStopping counter: 10 out of 10\n",
      "Early stopping\n",
      "\n",
      " Training completed!\n"
     ]
    }
   ],
   "source": [
    "seed() # 시드 고정\n",
    "# Training Initialization\n",
    "init_model()\n",
    "init_epoch()\n",
    "init_log()\n",
    "early_stopping = EarlyStopping(patience = 10)\n",
    "\n",
    "best_test_acc, best_epoch = 0, 0\n",
    "# Training Iteration\n",
    "while epoch_not_finished():\n",
    "    start_time = time.time()\n",
    "    tloss, tacc, _, _ = epoch(train_loader, mode = 'train')\n",
    "    end_time = time.time()\n",
    "    time_taken = end_time - start_time\n",
    "    record_train_log(tloss, tacc, time_taken)\n",
    "    with torch.no_grad():\n",
    "        vloss, vacc, _, _ = epoch(valid_loader, mode = 'val')\n",
    "        record_valid_log(vloss, vacc)\n",
    "    print_log()\n",
    "    \n",
    "    # early_stopping는 validation loss가 감소하였는지 확인\n",
    "    early_stopping(vloss, net)\n",
    "    if early_stopping.early_stop:\n",
    "        print(\"Early stopping\")\n",
    "        break\n",
    "    \n",
    "    with torch.no_grad():\n",
    "        net.eval()\n",
    "        _, test_acc, _, _ = epoch(test_loader, mode = 'test')\n",
    "        \n",
    "        # Test 점수가 가장 좋았던 모델을 저장한다\n",
    "        if best_test_acc < test_acc:\n",
    "            best_test_acc = test_acc\n",
    "            best_epoch = epoch_cnt\n",
    "            print('Epoch: {} / Test Acc: {} | 최고 점수가 갱신되었습니다. 모델 중간 저장을 시행합니다.'.format(best_epoch, round(best_test_acc, 5)))\n",
    "            torch.save(net.state_dict(), './model.pth')\n",
    "    \n",
    "    # 학습률 스케줄링\n",
    "    scheduler.step(test_acc)\n",
    "\n",
    "print('\\n Training completed!')"
   ]
  },
  {
   "cell_type": "markdown",
   "id": "372c4b3e",
   "metadata": {},
   "source": [
    "## 모델 정확도"
   ]
  },
  {
   "cell_type": "code",
   "execution_count": 12,
   "id": "c43810e5",
   "metadata": {},
   "outputs": [
    {
     "name": "stdout",
     "output_type": "stream",
     "text": [
      "Test Acc.: 0.9951\n",
      "Test Loss: 1.4665\n",
      "저장된 Best Model: Epoch: 24/ Test Accuracy: 0.9952\n"
     ]
    }
   ],
   "source": [
    "net = My_model().to(device)\n",
    "net.load_state_dict(torch.load('./model.pth'))\n",
    "\n",
    "# 정확도 검증\n",
    "with torch.no_grad():\n",
    "    test_loss, test_acc, test_out, test_label = epoch(test_loader, mode = 'test')\n",
    "    test_acc = round(test_acc, 4)\n",
    "    test_loss = round(test_loss, 4)\n",
    "    print('Test Acc.: {}'.format(test_acc))\n",
    "    print('Test Loss: {}'.format(test_loss))\n",
    "\n",
    "print('저장된 Best Model: Epoch: {}/ Test Accuracy: {}'.format(best_epoch, round(best_test_acc, 4)))"
   ]
  },
  {
   "cell_type": "markdown",
   "id": "54b213d5",
   "metadata": {},
   "source": [
    "## 결과 분석"
   ]
  },
  {
   "cell_type": "code",
   "execution_count": 13,
   "id": "69130ece",
   "metadata": {},
   "outputs": [
    {
     "data": {
      "image/png": "[encoded data removed]",
      "text/plain": [
       "<Figure size 792x594 with 2 Axes>"
      ]
     },
     "metadata": {},
     "output_type": "display_data"
    }
   ],
   "source": [
    "# Confusion matrix\n",
    "our_cmatrix = confusion_matrix(test_label, test_out)\n",
    "plt.figure(figsize=(8, 6), dpi=99)\n",
    "sns.heatmap(our_cmatrix, annot=True, fmt='g', cmap='YlGn').set(xlabel='Predicted', ylabel='Truth')\n",
    "plt.title('Confusion Matrix')\n",
    "plt.show()\n",
    "\n",
    "\n",
    "##########"
   ]
  },
  {
   "cell_type": "code",
   "execution_count": 14,
   "id": "f03b63b1",
   "metadata": {},
   "outputs": [],
   "source": [
    "def check_error(wrong_loader, Number_Of_Error):\n",
    "    cnt = 0\n",
    "    for _data, _y in wrong_loader: # 데이터에서 사진과 라벨을 분리\n",
    "    \n",
    "        # 코딩타임 ( 데이터를 모델에 넣고 예측 결과 1, 2, 3 순위 출력 ) - 3 분\n",
    "        \n",
    "        data, _y = _data.to(device), _y.to(device) # data, label 을 gpu 에서 처리할 수 있도록 처리\n",
    "        results, _ = net(data) # 모델에 데이터를 넣고 모든 class 에 대한 확률값인 results 를 반환\n",
    "        _, pred_y = torch.max(results, 1) # result 에서 최대 확률값을 기준으로 예측 class 도출\n",
    "\n",
    "        if _y != pred_y :\n",
    "            print('real_label : {}, predict_label : {}'.format(_y, pred_y))\n",
    "            _data = torch.squeeze(_data)\n",
    "            plt.figure(figsize=(3,3))\n",
    "            plt.imshow(_data, cmap='gray')\n",
    "            plt.show()\n",
    "            cnt +=1\n",
    "        if cnt >= Number_Of_Error :\n",
    "            break"
   ]
  },
  {
   "cell_type": "code",
   "execution_count": 15,
   "id": "72f1227a",
   "metadata": {},
   "outputs": [
    {
     "name": "stdout",
     "output_type": "stream",
     "text": [
      "real_label : tensor([9], device='cuda:0'), predict_label : tensor([4], device='cuda:0')\n"
     ]
    },
    {
     "data": {
      "image/png": "[encoded data removed]",
      "text/plain": [
       "<Figure size 300x300 with 1 Axes>"
      ]
     },
     "metadata": {},
     "output_type": "display_data"
    },
    {
     "name": "stdout",
     "output_type": "stream",
     "text": [
      "real_label : tensor([7], device='cuda:0'), predict_label : tensor([3], device='cuda:0')\n"
     ]
    },
    {
     "data": {
      "image/png": "[encoded data removed]",
      "text/plain": [
       "<Figure size 300x300 with 1 Axes>"
      ]
     },
     "metadata": {},
     "output_type": "display_data"
    },
    {
     "name": "stdout",
     "output_type": "stream",
     "text": [
      "real_label : tensor([8], device='cuda:0'), predict_label : tensor([2], device='cuda:0')\n"
     ]
    },
    {
     "data": {
      "image/png": "[encoded data removed]",
      "text/plain": [
       "<Figure size 300x300 with 1 Axes>"
      ]
     },
     "metadata": {},
     "output_type": "display_data"
    },
    {
     "name": "stdout",
     "output_type": "stream",
     "text": [
      "real_label : tensor([2], device='cuda:0'), predict_label : tensor([7], device='cuda:0')\n"
     ]
    },
    {
     "data": {
      "image/png": "[encoded data removed]",
      "text/plain": [
       "<Figure size 300x300 with 1 Axes>"
      ]
     },
     "metadata": {},
     "output_type": "display_data"
    },
    {
     "name": "stdout",
     "output_type": "stream",
     "text": [
      "real_label : tensor([6], device='cuda:0'), predict_label : tensor([4], device='cuda:0')\n"
     ]
    },
    {
     "data": {
      "image/png": "[encoded data removed]",
      "text/plain": [
       "<Figure size 300x300 with 1 Axes>"
      ]
     },
     "metadata": {},
     "output_type": "display_data"
    },
    {
     "ename": "",
     "evalue": "",
     "output_type": "error",
     "traceback": [
      "\u001b[1;31mThe Kernel crashed while executing code in the the current cell or a previous cell. Please review the code in the cell(s) to identify a possible cause of the failure. Click <a href='https://aka.ms/vscodeJupyterKernelCrash'>here</a> for more info. View Jupyter <a href='command:jupyter.viewOutput'>log</a> for further details."
     ]
    }
   ],
   "source": [
    "# 코딩타임 (test 용 데이터 로더를 만들고 , 함수를 run)\n",
    "wrong_loader = DataLoader(test_data, pin_memory=True) # batch size 없이 통채로 데이터 로더에 test 데이터 삽입\n",
    "check_error(wrong_loader, 5)\n",
    "##########"
   ]
  },
  {
   "cell_type": "code",
   "execution_count": null,
   "id": "efa3f9ef",
   "metadata": {},
   "outputs": [],
   "source": []
  }
 ],
 "metadata": {
  "kernelspec": {
   "display_name": "mldl_pytorch",
   "language": "python",
   "name": "python3"
  },
  "language_info": {
   "codemirror_mode": {
    "name": "ipython",
    "version": 3
   },
   "file_extension": ".py",
   "mimetype": "text/x-python",
   "name": "python",
   "nbconvert_exporter": "python",
   "pygments_lexer": "ipython3",
   "version": "3.8.16"
  }
 },
 "nbformat": 4,
 "nbformat_minor": 5
}
